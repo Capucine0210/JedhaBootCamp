{
 "cells": [
  {
   "cell_type": "code",
   "execution_count": 714,
   "metadata": {
    "scrolled": true
   },
   "outputs": [],
   "source": [
    "import numpy as np\n",
    "import pandas as pd\n",
    "import matplotlib.pyplot as plt\n",
    "import seaborn as sns"
   ]
  },
  {
   "cell_type": "code",
   "execution_count": 715,
   "metadata": {
    "scrolled": true
   },
   "outputs": [],
   "source": [
    "lovedata = pd.read_csv('Speed Dating Data.csv', encoding='latin-1')"
   ]
  },
  {
   "cell_type": "code",
   "execution_count": 716,
   "metadata": {
    "scrolled": true
   },
   "outputs": [
    {
     "data": {
      "text/html": [
       "<div>\n",
       "<style scoped>\n",
       "    .dataframe tbody tr th:only-of-type {\n",
       "        vertical-align: middle;\n",
       "    }\n",
       "\n",
       "    .dataframe tbody tr th {\n",
       "        vertical-align: top;\n",
       "    }\n",
       "\n",
       "    .dataframe thead th {\n",
       "        text-align: right;\n",
       "    }\n",
       "</style>\n",
       "<table border=\"1\" class=\"dataframe\">\n",
       "  <thead>\n",
       "    <tr style=\"text-align: right;\">\n",
       "      <th></th>\n",
       "      <th>iid</th>\n",
       "      <th>id</th>\n",
       "      <th>gender</th>\n",
       "      <th>idg</th>\n",
       "      <th>condtn</th>\n",
       "      <th>wave</th>\n",
       "      <th>round</th>\n",
       "      <th>position</th>\n",
       "      <th>positin1</th>\n",
       "      <th>order</th>\n",
       "      <th>...</th>\n",
       "      <th>attr3_3</th>\n",
       "      <th>sinc3_3</th>\n",
       "      <th>intel3_3</th>\n",
       "      <th>fun3_3</th>\n",
       "      <th>amb3_3</th>\n",
       "      <th>attr5_3</th>\n",
       "      <th>sinc5_3</th>\n",
       "      <th>intel5_3</th>\n",
       "      <th>fun5_3</th>\n",
       "      <th>amb5_3</th>\n",
       "    </tr>\n",
       "  </thead>\n",
       "  <tbody>\n",
       "    <tr>\n",
       "      <td>0</td>\n",
       "      <td>1</td>\n",
       "      <td>1.0</td>\n",
       "      <td>0</td>\n",
       "      <td>1</td>\n",
       "      <td>1</td>\n",
       "      <td>1</td>\n",
       "      <td>10</td>\n",
       "      <td>7</td>\n",
       "      <td>NaN</td>\n",
       "      <td>4</td>\n",
       "      <td>...</td>\n",
       "      <td>5.0</td>\n",
       "      <td>7.0</td>\n",
       "      <td>7.0</td>\n",
       "      <td>7.0</td>\n",
       "      <td>7.0</td>\n",
       "      <td>NaN</td>\n",
       "      <td>NaN</td>\n",
       "      <td>NaN</td>\n",
       "      <td>NaN</td>\n",
       "      <td>NaN</td>\n",
       "    </tr>\n",
       "    <tr>\n",
       "      <td>1</td>\n",
       "      <td>1</td>\n",
       "      <td>1.0</td>\n",
       "      <td>0</td>\n",
       "      <td>1</td>\n",
       "      <td>1</td>\n",
       "      <td>1</td>\n",
       "      <td>10</td>\n",
       "      <td>7</td>\n",
       "      <td>NaN</td>\n",
       "      <td>3</td>\n",
       "      <td>...</td>\n",
       "      <td>5.0</td>\n",
       "      <td>7.0</td>\n",
       "      <td>7.0</td>\n",
       "      <td>7.0</td>\n",
       "      <td>7.0</td>\n",
       "      <td>NaN</td>\n",
       "      <td>NaN</td>\n",
       "      <td>NaN</td>\n",
       "      <td>NaN</td>\n",
       "      <td>NaN</td>\n",
       "    </tr>\n",
       "    <tr>\n",
       "      <td>2</td>\n",
       "      <td>1</td>\n",
       "      <td>1.0</td>\n",
       "      <td>0</td>\n",
       "      <td>1</td>\n",
       "      <td>1</td>\n",
       "      <td>1</td>\n",
       "      <td>10</td>\n",
       "      <td>7</td>\n",
       "      <td>NaN</td>\n",
       "      <td>10</td>\n",
       "      <td>...</td>\n",
       "      <td>5.0</td>\n",
       "      <td>7.0</td>\n",
       "      <td>7.0</td>\n",
       "      <td>7.0</td>\n",
       "      <td>7.0</td>\n",
       "      <td>NaN</td>\n",
       "      <td>NaN</td>\n",
       "      <td>NaN</td>\n",
       "      <td>NaN</td>\n",
       "      <td>NaN</td>\n",
       "    </tr>\n",
       "    <tr>\n",
       "      <td>3</td>\n",
       "      <td>1</td>\n",
       "      <td>1.0</td>\n",
       "      <td>0</td>\n",
       "      <td>1</td>\n",
       "      <td>1</td>\n",
       "      <td>1</td>\n",
       "      <td>10</td>\n",
       "      <td>7</td>\n",
       "      <td>NaN</td>\n",
       "      <td>5</td>\n",
       "      <td>...</td>\n",
       "      <td>5.0</td>\n",
       "      <td>7.0</td>\n",
       "      <td>7.0</td>\n",
       "      <td>7.0</td>\n",
       "      <td>7.0</td>\n",
       "      <td>NaN</td>\n",
       "      <td>NaN</td>\n",
       "      <td>NaN</td>\n",
       "      <td>NaN</td>\n",
       "      <td>NaN</td>\n",
       "    </tr>\n",
       "    <tr>\n",
       "      <td>4</td>\n",
       "      <td>1</td>\n",
       "      <td>1.0</td>\n",
       "      <td>0</td>\n",
       "      <td>1</td>\n",
       "      <td>1</td>\n",
       "      <td>1</td>\n",
       "      <td>10</td>\n",
       "      <td>7</td>\n",
       "      <td>NaN</td>\n",
       "      <td>7</td>\n",
       "      <td>...</td>\n",
       "      <td>5.0</td>\n",
       "      <td>7.0</td>\n",
       "      <td>7.0</td>\n",
       "      <td>7.0</td>\n",
       "      <td>7.0</td>\n",
       "      <td>NaN</td>\n",
       "      <td>NaN</td>\n",
       "      <td>NaN</td>\n",
       "      <td>NaN</td>\n",
       "      <td>NaN</td>\n",
       "    </tr>\n",
       "  </tbody>\n",
       "</table>\n",
       "<p>5 rows × 195 columns</p>\n",
       "</div>"
      ],
      "text/plain": [
       "   iid   id  gender  idg  condtn  wave  round  position  positin1  order  ...  \\\n",
       "0    1  1.0       0    1       1     1     10         7       NaN      4  ...   \n",
       "1    1  1.0       0    1       1     1     10         7       NaN      3  ...   \n",
       "2    1  1.0       0    1       1     1     10         7       NaN     10  ...   \n",
       "3    1  1.0       0    1       1     1     10         7       NaN      5  ...   \n",
       "4    1  1.0       0    1       1     1     10         7       NaN      7  ...   \n",
       "\n",
       "   attr3_3  sinc3_3  intel3_3  fun3_3  amb3_3  attr5_3  sinc5_3  intel5_3  \\\n",
       "0      5.0      7.0       7.0     7.0     7.0      NaN      NaN       NaN   \n",
       "1      5.0      7.0       7.0     7.0     7.0      NaN      NaN       NaN   \n",
       "2      5.0      7.0       7.0     7.0     7.0      NaN      NaN       NaN   \n",
       "3      5.0      7.0       7.0     7.0     7.0      NaN      NaN       NaN   \n",
       "4      5.0      7.0       7.0     7.0     7.0      NaN      NaN       NaN   \n",
       "\n",
       "   fun5_3  amb5_3  \n",
       "0     NaN     NaN  \n",
       "1     NaN     NaN  \n",
       "2     NaN     NaN  \n",
       "3     NaN     NaN  \n",
       "4     NaN     NaN  \n",
       "\n",
       "[5 rows x 195 columns]"
      ]
     },
     "execution_count": 716,
     "metadata": {},
     "output_type": "execute_result"
    }
   ],
   "source": [
    "lovedata.head()"
   ]
  },
  {
   "cell_type": "code",
   "execution_count": 717,
   "metadata": {
    "scrolled": true
   },
   "outputs": [
    {
     "name": "stdout",
     "output_type": "stream",
     "text": [
      "<class 'pandas.core.frame.DataFrame'>\n",
      "RangeIndex: 8378 entries, 0 to 8377\n",
      "Columns: 195 entries, iid to amb5_3\n",
      "dtypes: float64(174), int64(13), object(8)\n",
      "memory usage: 12.5+ MB\n"
     ]
    }
   ],
   "source": [
    "lovedata.info()"
   ]
  },
  {
   "cell_type": "code",
   "execution_count": 718,
   "metadata": {},
   "outputs": [
    {
     "name": "stdout",
     "output_type": "stream",
     "text": [
      "0 :  iid\n",
      "1 :  id\n",
      "2 :  gender\n",
      "3 :  idg\n",
      "4 :  condtn\n",
      "5 :  wave\n",
      "6 :  round\n",
      "7 :  position\n",
      "8 :  positin1\n",
      "9 :  order\n",
      "10 :  partner\n",
      "11 :  pid\n",
      "12 :  match\n",
      "13 :  int_corr\n",
      "14 :  samerace\n",
      "15 :  age_o\n",
      "16 :  race_o\n",
      "17 :  pf_o_att\n",
      "18 :  pf_o_sin\n",
      "19 :  pf_o_int\n",
      "20 :  pf_o_fun\n",
      "21 :  pf_o_amb\n",
      "22 :  pf_o_sha\n",
      "23 :  dec_o\n",
      "24 :  attr_o\n",
      "25 :  sinc_o\n",
      "26 :  intel_o\n",
      "27 :  fun_o\n",
      "28 :  amb_o\n",
      "29 :  shar_o\n",
      "30 :  like_o\n",
      "31 :  prob_o\n",
      "32 :  met_o\n",
      "33 :  age\n",
      "34 :  field\n",
      "35 :  field_cd\n",
      "36 :  undergra\n",
      "37 :  mn_sat\n",
      "38 :  tuition\n",
      "39 :  race\n",
      "40 :  imprace\n",
      "41 :  imprelig\n",
      "42 :  from\n",
      "43 :  zipcode\n",
      "44 :  income\n",
      "45 :  goal\n",
      "46 :  date\n",
      "47 :  go_out\n",
      "48 :  career\n",
      "49 :  career_c\n",
      "50 :  sports\n",
      "51 :  tvsports\n",
      "52 :  exercise\n",
      "53 :  dining\n",
      "54 :  museums\n",
      "55 :  art\n",
      "56 :  hiking\n",
      "57 :  gaming\n",
      "58 :  clubbing\n",
      "59 :  reading\n",
      "60 :  tv\n",
      "61 :  theater\n",
      "62 :  movies\n",
      "63 :  concerts\n",
      "64 :  music\n",
      "65 :  shopping\n",
      "66 :  yoga\n",
      "67 :  exphappy\n",
      "68 :  expnum\n",
      "69 :  attr1_1\n",
      "70 :  sinc1_1\n",
      "71 :  intel1_1\n",
      "72 :  fun1_1\n",
      "73 :  amb1_1\n",
      "74 :  shar1_1\n",
      "75 :  attr4_1\n",
      "76 :  sinc4_1\n",
      "77 :  intel4_1\n",
      "78 :  fun4_1\n",
      "79 :  amb4_1\n",
      "80 :  shar4_1\n",
      "81 :  attr2_1\n",
      "82 :  sinc2_1\n",
      "83 :  intel2_1\n",
      "84 :  fun2_1\n",
      "85 :  amb2_1\n",
      "86 :  shar2_1\n",
      "87 :  attr3_1\n",
      "88 :  sinc3_1\n",
      "89 :  fun3_1\n",
      "90 :  intel3_1\n",
      "91 :  amb3_1\n",
      "92 :  attr5_1\n",
      "93 :  sinc5_1\n",
      "94 :  intel5_1\n",
      "95 :  fun5_1\n",
      "96 :  amb5_1\n",
      "97 :  dec\n",
      "98 :  attr\n",
      "99 :  sinc\n",
      "100 :  intel\n",
      "101 :  fun\n",
      "102 :  amb\n",
      "103 :  shar\n",
      "104 :  like\n",
      "105 :  prob\n",
      "106 :  met\n",
      "107 :  match_es\n",
      "108 :  attr1_s\n",
      "109 :  sinc1_s\n",
      "110 :  intel1_s\n",
      "111 :  fun1_s\n",
      "112 :  amb1_s\n",
      "113 :  shar1_s\n",
      "114 :  attr3_s\n",
      "115 :  sinc3_s\n",
      "116 :  intel3_s\n",
      "117 :  fun3_s\n",
      "118 :  amb3_s\n",
      "119 :  satis_2\n",
      "120 :  length\n",
      "121 :  numdat_2\n",
      "122 :  attr7_2\n",
      "123 :  sinc7_2\n",
      "124 :  intel7_2\n",
      "125 :  fun7_2\n",
      "126 :  amb7_2\n",
      "127 :  shar7_2\n",
      "128 :  attr1_2\n",
      "129 :  sinc1_2\n",
      "130 :  intel1_2\n",
      "131 :  fun1_2\n",
      "132 :  amb1_2\n",
      "133 :  shar1_2\n",
      "134 :  attr4_2\n",
      "135 :  sinc4_2\n",
      "136 :  intel4_2\n",
      "137 :  fun4_2\n",
      "138 :  amb4_2\n",
      "139 :  shar4_2\n",
      "140 :  attr2_2\n",
      "141 :  sinc2_2\n",
      "142 :  intel2_2\n",
      "143 :  fun2_2\n",
      "144 :  amb2_2\n",
      "145 :  shar2_2\n",
      "146 :  attr3_2\n",
      "147 :  sinc3_2\n",
      "148 :  intel3_2\n",
      "149 :  fun3_2\n",
      "150 :  amb3_2\n",
      "151 :  attr5_2\n",
      "152 :  sinc5_2\n",
      "153 :  intel5_2\n",
      "154 :  fun5_2\n",
      "155 :  amb5_2\n",
      "156 :  you_call\n",
      "157 :  them_cal\n",
      "158 :  date_3\n",
      "159 :  numdat_3\n",
      "160 :  num_in_3\n",
      "161 :  attr1_3\n",
      "162 :  sinc1_3\n",
      "163 :  intel1_3\n",
      "164 :  fun1_3\n",
      "165 :  amb1_3\n",
      "166 :  shar1_3\n",
      "167 :  attr7_3\n",
      "168 :  sinc7_3\n",
      "169 :  intel7_3\n",
      "170 :  fun7_3\n",
      "171 :  amb7_3\n",
      "172 :  shar7_3\n",
      "173 :  attr4_3\n",
      "174 :  sinc4_3\n",
      "175 :  intel4_3\n",
      "176 :  fun4_3\n",
      "177 :  amb4_3\n",
      "178 :  shar4_3\n",
      "179 :  attr2_3\n",
      "180 :  sinc2_3\n",
      "181 :  intel2_3\n",
      "182 :  fun2_3\n",
      "183 :  amb2_3\n",
      "184 :  shar2_3\n",
      "185 :  attr3_3\n",
      "186 :  sinc3_3\n",
      "187 :  intel3_3\n",
      "188 :  fun3_3\n",
      "189 :  amb3_3\n",
      "190 :  attr5_3\n",
      "191 :  sinc5_3\n",
      "192 :  intel5_3\n",
      "193 :  fun5_3\n",
      "194 :  amb5_3\n"
     ]
    }
   ],
   "source": [
    "n = 0\n",
    "for i in range(195):\n",
    "    print(n,': ',lovedata.columns[i])\n",
    "    n = n+ 1"
   ]
  },
  {
   "cell_type": "code",
   "execution_count": 719,
   "metadata": {
    "scrolled": true
   },
   "outputs": [
    {
     "data": {
      "text/plain": [
       "0    4863\n",
       "1    3515\n",
       "Name: dec_o, dtype: int64"
      ]
     },
     "execution_count": 719,
     "metadata": {},
     "output_type": "execute_result"
    }
   ],
   "source": [
    "lovedata.dec_o.value_counts()"
   ]
  },
  {
   "cell_type": "code",
   "execution_count": 720,
   "metadata": {},
   "outputs": [
    {
     "data": {
      "text/plain": [
       "(8378, 40)"
      ]
     },
     "execution_count": 720,
     "metadata": {},
     "output_type": "execute_result"
    }
   ],
   "source": [
    "# narrowing dataset\n",
    "match = lovedata.loc[:,['match']]\n",
    "general = lovedata.loc[:,['iid','gender','match','pid','int_corr','samerace','age','race','match_es','date_3']]\n",
    "preferences = lovedata.iloc[:,15:23]\n",
    "notation = lovedata.iloc[:,23:33]\n",
    "habits = lovedata.iloc[:,46:48]\n",
    "habits[lovedata.columns[50:67]]=lovedata.iloc[:,50:67]\n",
    "expectations = lovedata.iloc[:,67]\n",
    "look_up = lovedata.iloc[:,69:75]\n",
    "yourself = lovedata.iloc[:,87:92]\n",
    "partenr = lovedata.iloc[:,97:107]\n",
    "\n",
    "dlove = pd.concat([general,preferences,expectations,look_up,yourself,partenr], axis=1)\n",
    "dlove.shape"
   ]
  },
  {
   "cell_type": "code",
   "execution_count": 721,
   "metadata": {},
   "outputs": [
    {
     "data": {
      "text/plain": [
       "0.0    6880\n",
       "1.0    1498\n",
       "Name: date_3, dtype: int64"
      ]
     },
     "execution_count": 721,
     "metadata": {},
     "output_type": "execute_result"
    }
   ],
   "source": [
    "#Second date missing Values\n",
    "dlove.date_3.fillna(0,inplace=True)\n",
    "dlove.date_3.value_counts()"
   ]
  },
  {
   "cell_type": "code",
   "execution_count": 722,
   "metadata": {},
   "outputs": [
    {
     "data": {
      "text/plain": [
       "iid            0\n",
       "gender         0\n",
       "match          0\n",
       "pid           10\n",
       "int_corr     158\n",
       "samerace       0\n",
       "age           95\n",
       "race          63\n",
       "match_es    1173\n",
       "date_3         0\n",
       "age_o        104\n",
       "race_o        73\n",
       "pf_o_att      89\n",
       "pf_o_sin      89\n",
       "pf_o_int      89\n",
       "pf_o_fun      98\n",
       "pf_o_amb     107\n",
       "pf_o_sha     129\n",
       "exphappy     101\n",
       "attr1_1       79\n",
       "sinc1_1       79\n",
       "intel1_1      79\n",
       "fun1_1        89\n",
       "amb1_1        99\n",
       "shar1_1      121\n",
       "attr3_1      105\n",
       "sinc3_1      105\n",
       "fun3_1       105\n",
       "intel3_1     105\n",
       "amb3_1       105\n",
       "dec            0\n",
       "attr         202\n",
       "sinc         277\n",
       "intel        296\n",
       "fun          350\n",
       "amb          712\n",
       "shar        1067\n",
       "like         240\n",
       "prob         309\n",
       "met          375\n",
       "dtype: int64"
      ]
     },
     "execution_count": 722,
     "metadata": {},
     "output_type": "execute_result"
    }
   ],
   "source": [
    "dlove.isnull().sum()"
   ]
  },
  {
   "cell_type": "code",
   "execution_count": 723,
   "metadata": {},
   "outputs": [
    {
     "data": {
      "text/html": [
       "<div>\n",
       "<style scoped>\n",
       "    .dataframe tbody tr th:only-of-type {\n",
       "        vertical-align: middle;\n",
       "    }\n",
       "\n",
       "    .dataframe tbody tr th {\n",
       "        vertical-align: top;\n",
       "    }\n",
       "\n",
       "    .dataframe thead th {\n",
       "        text-align: right;\n",
       "    }\n",
       "</style>\n",
       "<table border=\"1\" class=\"dataframe\">\n",
       "  <thead>\n",
       "    <tr style=\"text-align: right;\">\n",
       "      <th></th>\n",
       "      <th>attr1_1</th>\n",
       "      <th>sinc1_1</th>\n",
       "      <th>intel1_1</th>\n",
       "      <th>fun1_1</th>\n",
       "      <th>amb1_1</th>\n",
       "      <th>shar1_1</th>\n",
       "    </tr>\n",
       "  </thead>\n",
       "  <tbody>\n",
       "    <tr>\n",
       "      <td>312</td>\n",
       "      <td>NaN</td>\n",
       "      <td>NaN</td>\n",
       "      <td>NaN</td>\n",
       "      <td>NaN</td>\n",
       "      <td>NaN</td>\n",
       "      <td>NaN</td>\n",
       "    </tr>\n",
       "    <tr>\n",
       "      <td>313</td>\n",
       "      <td>NaN</td>\n",
       "      <td>NaN</td>\n",
       "      <td>NaN</td>\n",
       "      <td>NaN</td>\n",
       "      <td>NaN</td>\n",
       "      <td>NaN</td>\n",
       "    </tr>\n",
       "    <tr>\n",
       "      <td>314</td>\n",
       "      <td>NaN</td>\n",
       "      <td>NaN</td>\n",
       "      <td>NaN</td>\n",
       "      <td>NaN</td>\n",
       "      <td>NaN</td>\n",
       "      <td>NaN</td>\n",
       "    </tr>\n",
       "    <tr>\n",
       "      <td>315</td>\n",
       "      <td>NaN</td>\n",
       "      <td>NaN</td>\n",
       "      <td>NaN</td>\n",
       "      <td>NaN</td>\n",
       "      <td>NaN</td>\n",
       "      <td>NaN</td>\n",
       "    </tr>\n",
       "    <tr>\n",
       "      <td>316</td>\n",
       "      <td>NaN</td>\n",
       "      <td>NaN</td>\n",
       "      <td>NaN</td>\n",
       "      <td>NaN</td>\n",
       "      <td>NaN</td>\n",
       "      <td>NaN</td>\n",
       "    </tr>\n",
       "    <tr>\n",
       "      <td>...</td>\n",
       "      <td>...</td>\n",
       "      <td>...</td>\n",
       "      <td>...</td>\n",
       "      <td>...</td>\n",
       "      <td>...</td>\n",
       "      <td>...</td>\n",
       "    </tr>\n",
       "    <tr>\n",
       "      <td>7845</td>\n",
       "      <td>40.0</td>\n",
       "      <td>10.0</td>\n",
       "      <td>30.0</td>\n",
       "      <td>10.0</td>\n",
       "      <td>10.0</td>\n",
       "      <td>NaN</td>\n",
       "    </tr>\n",
       "    <tr>\n",
       "      <td>7846</td>\n",
       "      <td>40.0</td>\n",
       "      <td>10.0</td>\n",
       "      <td>30.0</td>\n",
       "      <td>10.0</td>\n",
       "      <td>10.0</td>\n",
       "      <td>NaN</td>\n",
       "    </tr>\n",
       "    <tr>\n",
       "      <td>7847</td>\n",
       "      <td>40.0</td>\n",
       "      <td>10.0</td>\n",
       "      <td>30.0</td>\n",
       "      <td>10.0</td>\n",
       "      <td>10.0</td>\n",
       "      <td>NaN</td>\n",
       "    </tr>\n",
       "    <tr>\n",
       "      <td>7848</td>\n",
       "      <td>40.0</td>\n",
       "      <td>10.0</td>\n",
       "      <td>30.0</td>\n",
       "      <td>10.0</td>\n",
       "      <td>10.0</td>\n",
       "      <td>NaN</td>\n",
       "    </tr>\n",
       "    <tr>\n",
       "      <td>7849</td>\n",
       "      <td>40.0</td>\n",
       "      <td>10.0</td>\n",
       "      <td>30.0</td>\n",
       "      <td>10.0</td>\n",
       "      <td>10.0</td>\n",
       "      <td>NaN</td>\n",
       "    </tr>\n",
       "  </tbody>\n",
       "</table>\n",
       "<p>121 rows × 6 columns</p>\n",
       "</div>"
      ],
      "text/plain": [
       "      attr1_1  sinc1_1  intel1_1  fun1_1  amb1_1  shar1_1\n",
       "312       NaN      NaN       NaN     NaN     NaN      NaN\n",
       "313       NaN      NaN       NaN     NaN     NaN      NaN\n",
       "314       NaN      NaN       NaN     NaN     NaN      NaN\n",
       "315       NaN      NaN       NaN     NaN     NaN      NaN\n",
       "316       NaN      NaN       NaN     NaN     NaN      NaN\n",
       "...       ...      ...       ...     ...     ...      ...\n",
       "7845     40.0     10.0      30.0    10.0    10.0      NaN\n",
       "7846     40.0     10.0      30.0    10.0    10.0      NaN\n",
       "7847     40.0     10.0      30.0    10.0    10.0      NaN\n",
       "7848     40.0     10.0      30.0    10.0    10.0      NaN\n",
       "7849     40.0     10.0      30.0    10.0    10.0      NaN\n",
       "\n",
       "[121 rows x 6 columns]"
      ]
     },
     "execution_count": 723,
     "metadata": {},
     "output_type": "execute_result"
    }
   ],
   "source": [
    "test_1 = pd.concat([general,look_up],axis=1)\n",
    "look_up[look_up['shar1_1'].isnull()==True]"
   ]
  },
  {
   "cell_type": "code",
   "execution_count": 724,
   "metadata": {},
   "outputs": [
    {
     "data": {
      "text/plain": [
       "<matplotlib.axes._subplots.AxesSubplot at 0x1a2f695e90>"
      ]
     },
     "execution_count": 724,
     "metadata": {},
     "output_type": "execute_result"
    },
    {
     "data": {
      "image/png": "[encoded data removed]",
      "text/plain": [
       "<Figure size 432x288 with 1 Axes>"
      ]
     },
     "metadata": {
      "needs_background": "light"
     },
     "output_type": "display_data"
    }
   ],
   "source": [
    "#Number of matches expected\n",
    "#dlove['match_es']= dlove.match_es.fillna(dlove.match_es.median())\n",
    "my_pal = {0: \"Pink\", 1: \"Lightblue\"}\n",
    "sns.boxplot(x= dlove.gender, y=dlove.match_es, palette=my_pal)\n"
   ]
  },
  {
   "cell_type": "code",
   "execution_count": 781,
   "metadata": {
    "scrolled": true
   },
   "outputs": [
    {
     "data": {
      "text/plain": [
       "(5651, 40)"
      ]
     },
     "execution_count": 781,
     "metadata": {},
     "output_type": "execute_result"
    }
   ],
   "source": [
    "love = dlove.dropna()\n",
    "love.shape"
   ]
  },
  {
   "cell_type": "code",
   "execution_count": 790,
   "metadata": {
    "scrolled": true
   },
   "outputs": [
    {
     "data": {
      "image/png": "[encoded data removed]",
      "text/plain": [
       "<Figure size 720x720 with 2 Axes>"
      ]
     },
     "metadata": {
      "needs_background": "light"
     },
     "output_type": "display_data"
    }
   ],
   "source": [
    "#correlation between participant’s and partner’s ratings of interests in Time 1\n",
    "\n",
    "plt.figure(figsize=(10,10))\n",
    "plt.subplot(1,2,1)\n",
    "sns.distplot(lovedata.int_corr[lovedata['match']==1].dropna())\n",
    "sns.distplot(love.int_corr[lovedata['match']==1].dropna())\n",
    "plt.title('Corrélation des interets dans les cas de match')\n",
    "plt.subplot(1,2,2)\n",
    "sns.distplot(lovedata.int_corr[lovedata['match']==0].dropna())\n",
    "sns.distplot(love.int_corr[lovedata['match']==0].dropna())\n",
    "plt.title('Corrélation des interets dans les cas de non-match')\n",
    "plt.show()"
   ]
  },
  {
   "cell_type": "code",
   "execution_count": 728,
   "metadata": {},
   "outputs": [
    {
     "data": {
      "text/plain": [
       "0    4726\n",
       "1     925\n",
       "Name: match, dtype: int64"
      ]
     },
     "execution_count": 728,
     "metadata": {},
     "output_type": "execute_result"
    }
   ],
   "source": [
    "#nombre de matches\n",
    "love.match.value_counts()"
   ]
  },
  {
   "cell_type": "code",
   "execution_count": 740,
   "metadata": {},
   "outputs": [
    {
     "data": {
      "text/plain": [
       "454"
      ]
     },
     "execution_count": 740,
     "metadata": {},
     "output_type": "execute_result"
    }
   ],
   "source": [
    "#nombre de participants\n",
    "love.iid.nunique()"
   ]
  },
  {
   "cell_type": "code",
   "execution_count": 756,
   "metadata": {
    "scrolled": true
   },
   "outputs": [
    {
     "data": {
      "text/plain": [
       "0    10.409692\n",
       "1     2.037445\n",
       "Name: match, dtype: float64"
      ]
     },
     "execution_count": 756,
     "metadata": {},
     "output_type": "execute_result"
    }
   ],
   "source": [
    "#Nombre moyen de Match/non match par participant\n",
    "love.match.value_counts()/love.iid.nunique()"
   ]
  },
  {
   "cell_type": "code",
   "execution_count": 748,
   "metadata": {},
   "outputs": [
    {
     "data": {
      "text/plain": [
       "12.447136563876652"
      ]
     },
     "execution_count": 748,
     "metadata": {},
     "output_type": "execute_result"
    }
   ],
   "source": [
    "#Nombre moyen de speed date par participant\n",
    "love.iid.value_counts().mean()"
   ]
  },
  {
   "cell_type": "code",
   "execution_count": 742,
   "metadata": {},
   "outputs": [
    {
     "data": {
      "text/plain": [
       "<matplotlib.axes._subplots.AxesSubplot at 0x1a2f58b750>"
      ]
     },
     "execution_count": 742,
     "metadata": {},
     "output_type": "execute_result"
    },
    {
     "data": {
      "image/png": "[encoded data removed]",
      "text/plain": [
       "<Figure size 432x288 with 1 Axes>"
      ]
     },
     "metadata": {
      "needs_background": "light"
     },
     "output_type": "display_data"
    }
   ],
   "source": [
    "sns.countplot(x=love.match)"
   ]
  },
  {
   "cell_type": "code",
   "execution_count": 743,
   "metadata": {
    "scrolled": true
   },
   "outputs": [
    {
     "data": {
      "text/plain": [
       "0.0    10.306167\n",
       "1.0     2.140969\n",
       "Name: date_3, dtype: float64"
      ]
     },
     "execution_count": 743,
     "metadata": {},
     "output_type": "execute_result"
    }
   ],
   "source": [
    "#Nombre moyen de 2e date par participant\n",
    "love.date_3.value_counts()/love.iid.nunique()"
   ]
  },
  {
   "cell_type": "markdown",
   "metadata": {},
   "source": [
    "Participer au speed dating permet en moyenne d'obtenir 2 second date."
   ]
  },
  {
   "cell_type": "code",
   "execution_count": 744,
   "metadata": {
    "scrolled": true
   },
   "outputs": [
    {
     "data": {
      "text/plain": [
       "match  date_3\n",
       "0      0.0       3994\n",
       "       1.0        732\n",
       "1      0.0        685\n",
       "       1.0        240\n",
       "Name: date_3, dtype: int64"
      ]
     },
     "execution_count": 744,
     "metadata": {},
     "output_type": "execute_result"
    }
   ],
   "source": [
    "#Rule number1: Ne jamais perdre espoir!\n",
    "chart_leg= love.date_3.groupby(love.match).value_counts()\n",
    "chart_leg"
   ]
  },
  {
   "cell_type": "code",
   "execution_count": 745,
   "metadata": {},
   "outputs": [
    {
     "data": {
      "image/png": "[encoded data removed]",
      "text/plain": [
       "<Figure size 432x288 with 1 Axes>"
      ]
     },
     "metadata": {
      "needs_background": "light"
     },
     "output_type": "display_data"
    }
   ],
   "source": [
    "chart_data = love.date_3[love['match']==0].value_counts()\n",
    "chart_data2 = love.date_3[love['match']==1].value_counts()\n",
    "plt.bar(['Pas de Second date','Second date'],chart_data, color='teal')\n",
    "plt.bar(['Pas de Second date','Second date'],chart_data2, bottom = chart_data,color='palevioletred')\n",
    "plt.legend(['Pas de Match', 'Match'])\n",
    "plt.text(-0.1,chart_data[0]/2,str('{:.2%}'.format(chart_leg[0][0]/(love.match.value_counts().sum()))))\n",
    "plt.text(0.9,chart_data[1]/2,str('{:.2%}'.format(chart_leg[0][1]/(love.match.value_counts().sum()))))\n",
    "plt.text(-0.1,chart_data[0]+(chart_data2[0]/2),str('{:.2%}'.format(chart_leg[1][0]/(love.match.value_counts().sum()))))\n",
    "plt.text(0.9,chart_data[1]+(chart_data2[1]/2),str('{:.2%}'.format(chart_leg[1][1]/(love.match.value_counts().sum()))))\n",
    "plt.title('Match or not Match: you may still have found love!')\n",
    "plt.show()"
   ]
  },
  {
   "cell_type": "markdown",
   "metadata": {},
   "source": [
    "Ne jamais perdre espoir: il n'est pas absolument nécessaire d'avoir un match pour obtenir un second date!"
   ]
  },
  {
   "cell_type": "code",
   "execution_count": 746,
   "metadata": {},
   "outputs": [],
   "source": [
    "notation2 = pd.concat([match,general['gender'],notation,partenr],axis=1)\n",
    "corr_notation2 = notation2.corr() "
   ]
  },
  {
   "cell_type": "code",
   "execution_count": 747,
   "metadata": {},
   "outputs": [
    {
     "data": {
      "text/plain": [
       "<matplotlib.axes._subplots.AxesSubplot at 0x1a328f9250>"
      ]
     },
     "execution_count": 747,
     "metadata": {},
     "output_type": "execute_result"
    },
    {
     "data": {
      "image/png": "[encoded data removed]",
      "text/plain": [
       "<Figure size 1440x1080 with 2 Axes>"
      ]
     },
     "metadata": {
      "needs_background": "light"
     },
     "output_type": "display_data"
    }
   ],
   "source": [
    "#Y'a t'il une correlation dans les notations respectives des deux partenaires?\n",
    "plt.subplots(figsize=(20,15))\n",
    "sns.heatmap(corr_notation2, \n",
    "            xticklabels=notation2.columns.values,\n",
    "            yticklabels=notation2.columns.values,cmap='Blues') \n",
    "#--> question: comment faire x, y differents"
   ]
  },
  {
   "cell_type": "markdown",
   "metadata": {},
   "source": [
    "Il n'y pas de corrélation entre les notations des partenaires et par les partenaires: les impressions des uns et des autres ne sont donc pas réciproques."
   ]
  },
  {
   "cell_type": "code",
   "execution_count": null,
   "metadata": {},
   "outputs": [],
   "source": []
  }
 ],
 "metadata": {
  "celltoolbar": "Format de la Cellule Texte Brut",
  "kernelspec": {
   "display_name": "Python 3",
   "language": "python",
   "name": "python3"
  },
  "language_info": {
   "codemirror_mode": {
    "name": "ipython",
    "version": 3
   },
   "file_extension": ".py",
   "mimetype": "text/x-python",
   "name": "python",
   "nbconvert_exporter": "python",
   "pygments_lexer": "ipython3",
   "version": "3.7.4"
  }
 },
 "nbformat": 4,
 "nbformat_minor": 2
}
